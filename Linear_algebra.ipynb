{
  "nbformat": 4,
  "nbformat_minor": 0,
  "metadata": {
    "colab": {
      "name": "Data690-Week-01.ipynb",
      "provenance": [],
      "collapsed_sections": []
    },
    "kernelspec": {
      "name": "python3",
      "display_name": "Python 3"
    },
    "language_info": {
      "name": "python"
    }
  },
  "cells": [
    {
      "cell_type": "markdown",
      "source": [
        "#**Linear Algebra Review** \n",
        "\n",
        "[Resource 1](https://https://github.com/EverLookNeverSee/numpy_and_algebra/blob/master/LICENSE)\n",
        "\n",
        "[Resource 2](https://cs229.stanford.edu/summer2020/cs229-linalg.pdf)"
      ],
      "metadata": {
        "id": "EcrD-j-He3IO"
      }
    },
    {
      "cell_type": "code",
      "source": [
        "import numpy as np"
      ],
      "metadata": {
        "id": "NFNXhV23wlad"
      },
      "execution_count": 2,
      "outputs": []
    },
    {
      "cell_type": "markdown",
      "source": [
        "## 1 Basic Concepts and Notation"
      ],
      "metadata": {
        "id": "I-TfisVifFxv"
      }
    },
    {
      "cell_type": "markdown",
      "source": [
        "### 1.1 Starts from equations"
      ],
      "metadata": {
        "id": "YNvydJJQlWKG"
      }
    },
    {
      "cell_type": "markdown",
      "source": [
        "Considering the following two equations:\n",
        "\n",
        "$4x_1 - 5x_2 = -13 $\n",
        "\n",
        "$-2x_1 + 3x_2 = 9$\n",
        "\n",
        "Can be expressed as:\n",
        "\n",
        "$A = \\begin{bmatrix}\n",
        "4 & -5\\\\\n",
        "-2 & 3\n",
        "\\end{bmatrix}$,\n",
        "$x= \\begin{bmatrix}\n",
        "x_1\\\\\n",
        "x_2\n",
        "\\end{bmatrix}$,\n",
        "$b= \\begin{bmatrix}\n",
        "-13\\\\\n",
        "9\n",
        "\\end{bmatrix}$\n",
        "\n",
        "Can also be written as a more compact form:\n",
        "\n",
        "$Ax = b$\n",
        "\n",
        "$x = A^{-1}b$"
      ],
      "metadata": {
        "id": "EyeNpoV8fP6q"
      }
    },
    {
      "cell_type": "markdown",
      "source": [
        "### 1.2 Basic Notation"
      ],
      "metadata": {
        "id": "npiW3h_hljk5"
      }
    },
    {
      "cell_type": "markdown",
      "source": [
        "$A \\in \\R^{m \\times n}$: denote a matrix with $m$ roles and $n$ columns; the entries of $A$ are real numbers.\n",
        "\n",
        "Therefore, $A \\in \\R^{2 \\times 2}$\n",
        "\n",
        "$x \\in \\R^n$: denote a vector with n entries.\n",
        "\n",
        "By convention, a vector x is denoted as:\n",
        "\n",
        "$x = \\begin{bmatrix}\n",
        "x_1\\\\\n",
        "x_2\\\\\n",
        "x_3\\\\\n",
        "\\vdots\\\\\n",
        "x_{n-1}\\\\\n",
        "x_n\n",
        "\\end{bmatrix}$\n",
        "\n",
        "The above vector is also known as a column vector.\n",
        "\n",
        "A role vector (1 row and n columns), $x^T = \\begin{bmatrix}\n",
        "x_1,&\n",
        "x_2,&\n",
        "x_3,&\n",
        "\\dots,&\n",
        "x_{n-1},&\n",
        "x_n\n",
        "\\end{bmatrix}$ is typicall written as $x^T$."
      ],
      "metadata": {
        "id": "OK2EZ8Cqluow"
      }
    },
    {
      "cell_type": "markdown",
      "source": [
        "The items of a matrix:\n",
        "\n",
        "$A = \\begin{bmatrix}\n",
        "a_{11} & a_{12} & a_{13} & \\dots & a_{1n}\\\\\n",
        "a_{21} & a_{22} & a_{23} & \\dots & a_{2n}\\\\\n",
        "a_{31} & a_{32} & a_{33} & \\dots & a_{3n}\\\\\n",
        "\\vdots & \\vdots & \\vdots & \\ddots & \\vdots\\\\\n",
        "x_{m1} & a_{m2} & a_{m3} & \\dots & a_{mn}\\\\\n",
        "\\end{bmatrix}$\n",
        "\n",
        "$a_{ij}$ denotes $i$th row and $j$th column;\n",
        "\n",
        "$A_{i:}$ denotes $i$th row;\n",
        "\n",
        "$A_{:j}$ denotes $j$th row;\n"
      ],
      "metadata": {
        "id": "zDHW1MYQrphb"
      }
    },
    {
      "cell_type": "markdown",
      "source": [
        "## 2 Matrix Operation"
      ],
      "metadata": {
        "id": "c3zvg0YrveZZ"
      }
    },
    {
      "cell_type": "markdown",
      "source": [
        "### 2.1 Matrix Transpose"
      ],
      "metadata": {
        "id": "IB8nE7oMvl4P"
      }
    },
    {
      "cell_type": "markdown",
      "source": [
        "$A^T_{i,j} = A_{j,i}$\n",
        "\n",
        "$(A^T)^T = A$\n",
        "\n",
        "$(AB)^T = B^TA^T$\n",
        "\n",
        "$(A+B)^T = A^T + B^T$"
      ],
      "metadata": {
        "id": "PqkQ0yytvvTi"
      }
    },
    {
      "cell_type": "code",
      "source": [
        "A = np.array([\n",
        "    [1, 2 ,3],\n",
        "    [4, 5, 6],\n",
        "    [7, 8, 9]\n",
        "])"
      ],
      "metadata": {
        "id": "ui_NJEsBfDwo"
      },
      "execution_count": 2,
      "outputs": []
    },
    {
      "cell_type": "code",
      "source": [
        "A"
      ],
      "metadata": {
        "colab": {
          "base_uri": "https://localhost:8080/"
        },
        "id": "u4cVros_xQPM",
        "outputId": "07fe942b-8153-460b-d65c-cec5ac7b3a67"
      },
      "execution_count": 3,
      "outputs": [
        {
          "output_type": "execute_result",
          "data": {
            "text/plain": [
              "array([[1, 2, 3],\n",
              "       [4, 5, 6],\n",
              "       [7, 8, 9]])"
            ]
          },
          "metadata": {},
          "execution_count": 3
        }
      ]
    },
    {
      "cell_type": "code",
      "source": [
        "A_t = A.transpose()\n",
        "A_t"
      ],
      "metadata": {
        "colab": {
          "base_uri": "https://localhost:8080/"
        },
        "id": "t11BFQKcxGh_",
        "outputId": "2934937d-eb0f-404d-a7a2-a9f8c308e542"
      },
      "execution_count": 4,
      "outputs": [
        {
          "output_type": "execute_result",
          "data": {
            "text/plain": [
              "array([[1, 4, 7],\n",
              "       [2, 5, 8],\n",
              "       [3, 6, 9]])"
            ]
          },
          "metadata": {},
          "execution_count": 4
        }
      ]
    },
    {
      "cell_type": "code",
      "source": [
        "B = np.array([\n",
        "    [1, 2 ],\n",
        "    [4, 5],\n",
        "    [7, 8]\n",
        "])\n",
        "B"
      ],
      "metadata": {
        "colab": {
          "base_uri": "https://localhost:8080/"
        },
        "id": "hxYr9UjYyWRf",
        "outputId": "184ccd1a-8796-4ca0-9a0f-314fc7e439a6"
      },
      "execution_count": 5,
      "outputs": [
        {
          "output_type": "execute_result",
          "data": {
            "text/plain": [
              "array([[1, 2],\n",
              "       [4, 5],\n",
              "       [7, 8]])"
            ]
          },
          "metadata": {},
          "execution_count": 5
        }
      ]
    },
    {
      "cell_type": "code",
      "source": [
        "B.transpose()"
      ],
      "metadata": {
        "colab": {
          "base_uri": "https://localhost:8080/"
        },
        "id": "BO95yej0yh9e",
        "outputId": "96a66952-728d-42cb-efea-ad7de7b89d05"
      },
      "execution_count": 6,
      "outputs": [
        {
          "output_type": "execute_result",
          "data": {
            "text/plain": [
              "array([[1, 4, 7],\n",
              "       [2, 5, 8]])"
            ]
          },
          "metadata": {},
          "execution_count": 6
        }
      ]
    },
    {
      "cell_type": "markdown",
      "source": [
        "### 2.2 Matrix adding"
      ],
      "metadata": {
        "id": "DfG0HUgYys0e"
      }
    },
    {
      "cell_type": "markdown",
      "source": [
        "$C = A + B$\n",
        "\n",
        "$C_{i,j} = A_{i,j} + B_{i,j}$\n",
        "\n",
        "$D = aB \\Rightarrow D_{i,j} = aB_{i,j}$\n",
        "\n",
        "$D = aB + c \\Rightarrow D_{i,j} = aB_{i,j} + c$"
      ],
      "metadata": {
        "id": "svYP04ZAy9MZ"
      }
    },
    {
      "cell_type": "code",
      "source": [
        "C = np.array([\n",
        "    [1, 2 ,3],\n",
        "    [4, 5, 6],\n",
        "    [7, 8, 9]\n",
        "])"
      ],
      "metadata": {
        "id": "KkGYhipYynQ_"
      },
      "execution_count": 8,
      "outputs": []
    },
    {
      "cell_type": "markdown",
      "source": [
        "### 2.3 Matrix multiplication"
      ],
      "metadata": {
        "id": "_9mR7-AD1KOa"
      }
    },
    {
      "cell_type": "markdown",
      "source": [
        "Matrix $A \\in \\R^{m \\times n}$ and Matrix $B \\in \\R^{n \\times p}$\n",
        "\n",
        "$C = AB \\in \\R^{m \\times p}$\n",
        "\n",
        "$C_{ij} = \\sum_{k=1}^n A_{ik}B_{kj}$\n",
        "\n",
        "![matrix multipl2.png](data:image/png;base64,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)\n",
        "\n",
        "[source](https://www.quantamagazine.org/mathematicians-inch-closer-to-matrix-multiplication-goal-20210323/)"
      ],
      "metadata": {
        "id": "EW1NyikI1PZ4"
      }
    },
    {
      "cell_type": "markdown",
      "source": [
        "#### 2.3.2 Hadamard Product: Element-wise Multiplication\n",
        "\n",
        "$C = A $"
      ],
      "metadata": {
        "id": "ckGieBATv_-q"
      }
    },
    {
      "cell_type": "code",
      "source": [
        "M = np.array([[1, 2, 3],\n",
        "           [4, 5, 6]])\n",
        "\n",
        "\n",
        "N = np.array([[1, 2, 3],\n",
        "           [4, 5, 6]])"
      ],
      "metadata": {
        "id": "3jRj3EA-wSFh"
      },
      "execution_count": 4,
      "outputs": []
    },
    {
      "cell_type": "code",
      "source": [
        "M*N"
      ],
      "metadata": {
        "colab": {
          "base_uri": "https://localhost:8080/"
        },
        "id": "JFkKc4NwyCM-",
        "outputId": "9024c121-4f6e-4b4b-8c59-4a40e3f4a7af"
      },
      "execution_count": 5,
      "outputs": [
        {
          "output_type": "execute_result",
          "data": {
            "text/plain": [
              "array([[ 1,  4,  9],\n",
              "       [16, 25, 36]])"
            ]
          },
          "metadata": {},
          "execution_count": 5
        }
      ]
    },
    {
      "cell_type": "code",
      "source": [
        "M+N"
      ],
      "metadata": {
        "colab": {
          "base_uri": "https://localhost:8080/"
        },
        "id": "HUcqopdGyRRA",
        "outputId": "b83c106d-5a7e-4e54-cc66-dd99c24e47d2"
      },
      "execution_count": 6,
      "outputs": [
        {
          "output_type": "execute_result",
          "data": {
            "text/plain": [
              "array([[ 2,  4,  6],\n",
              "       [ 8, 10, 12]])"
            ]
          },
          "metadata": {},
          "execution_count": 6
        }
      ]
    },
    {
      "cell_type": "code",
      "source": [
        "M-N"
      ],
      "metadata": {
        "colab": {
          "base_uri": "https://localhost:8080/"
        },
        "id": "tP0AOrdrydzK",
        "outputId": "8c4ebe38-7e58-4bb1-8f68-1207c8a553c0"
      },
      "execution_count": 7,
      "outputs": [
        {
          "output_type": "execute_result",
          "data": {
            "text/plain": [
              "array([[0, 0, 0],\n",
              "       [0, 0, 0]])"
            ]
          },
          "metadata": {},
          "execution_count": 7
        }
      ]
    },
    {
      "cell_type": "code",
      "source": [
        "M/N"
      ],
      "metadata": {
        "colab": {
          "base_uri": "https://localhost:8080/"
        },
        "id": "fYdnchTHyfHm",
        "outputId": "fae4d836-4a64-4913-843d-2a5cd727187e"
      },
      "execution_count": 8,
      "outputs": [
        {
          "output_type": "execute_result",
          "data": {
            "text/plain": [
              "array([[1., 1., 1.],\n",
              "       [1., 1., 1.]])"
            ]
          },
          "metadata": {},
          "execution_count": 8
        }
      ]
    },
    {
      "cell_type": "code",
      "source": [
        "A = np.array([[1, 2],\n",
        "           [3, 4],\n",
        "           [5, 6]])\n",
        "print(f\"A: \\n{A}\\n\")\n",
        "\n",
        "B = np.array([[1, 2],\n",
        "           [3, 4]])\n",
        "print(f\"B: \\n{B}\\n\")\n",
        "\n",
        "# multiply matrices using dot method\n",
        "C = A.dot(B)\n",
        "print(f\"C: \\n{C}\")\n",
        "\n",
        "D = A@B\n",
        "\n",
        "print(f\"C: \\n{D}\")"
      ],
      "metadata": {
        "colab": {
          "base_uri": "https://localhost:8080/"
        },
        "id": "833ZOzEnygZI",
        "outputId": "fdf8fa78-89ac-41ac-b3d8-bea8686dad42"
      },
      "execution_count": 9,
      "outputs": [
        {
          "output_type": "stream",
          "name": "stdout",
          "text": [
            "A: \n",
            "[[1 2]\n",
            " [3 4]\n",
            " [5 6]]\n",
            "\n",
            "B: \n",
            "[[1 2]\n",
            " [3 4]]\n",
            "\n",
            "C: \n",
            "[[ 7 10]\n",
            " [15 22]\n",
            " [23 34]]\n",
            "C: \n",
            "[[ 7 10]\n",
            " [15 22]\n",
            " [23 34]]\n"
          ]
        }
      ]
    },
    {
      "cell_type": "code",
      "source": [
        "B = np.array([0.5,\n",
        "           0.5])\n",
        "print(f\"B vector: \\n{B}\\n\")\n",
        "\n",
        "D = A.dot(B)\n",
        "print(f\"C: \\n{D}\\n\")"
      ],
      "metadata": {
        "colab": {
          "base_uri": "https://localhost:8080/"
        },
        "id": "xXXxzMbmzET1",
        "outputId": "72c57919-a065-4480-a6ed-5a67d6a8d7e4"
      },
      "execution_count": 12,
      "outputs": [
        {
          "output_type": "stream",
          "name": "stdout",
          "text": [
            "B vector: \n",
            "[0.5 0.5]\n",
            "\n",
            "C: \n",
            "[1.5 3.5 5.5]\n",
            "\n"
          ]
        }
      ]
    },
    {
      "cell_type": "markdown",
      "source": [
        "#### 2.3.3 Vector-Vector Products"
      ],
      "metadata": {
        "id": "-jhTVUa3ozeJ"
      }
    },
    {
      "cell_type": "markdown",
      "source": [
        "##### 2.3.3.1 The inner product (dot) product of two vectors\n",
        "\n",
        "For $x, y \\in \\R^n$,\n",
        "\n",
        "$x^Ty$ is called inner product or dot product;\n",
        "\n",
        "$xy^T$ is called the outer product.\n",
        "\n",
        "$x^Ty = \\begin{bmatrix}x_1&x_2&x_3&\\dots&x_n\\end{bmatrix}\\begin{bmatrix}y_1\\\\y_2\\\\y_3\\\\ \\vdots\\\\y_n\\end{bmatrix} = \\sum_{i=1}^nx_iy_i$\n",
        "\n",
        "$xy^T = \\begin{bmatrix}x_1\\\\x_2\\\\x_3\\\\\\vdots\\\\x_n\\end{bmatrix} \\begin{bmatrix}y_1&y_2&y_3&\\dots&y_n\\end{bmatrix} = \\begin{bmatrix}\n",
        "x_1y_1 & x_1y_2 & x_1y_3 & \\dots & x_1y_n\\\\\n",
        "a_{21} & a_{22} & a_{23} & \\dots & a_{2n}\\\\\n",
        "a_{31} & a_{32} & a_{33} & \\dots & a_{3n}\\\\\n",
        "\\vdots & \\vdots & \\vdots & \\ddots & \\vdots\\\\\n",
        "x_{m1} & a_{m2} & a_{m3} & \\dots & a_{mn}\\\\\n",
        "\\end{bmatrix}$"
      ],
      "metadata": {
        "id": "RjsVbIaGo5lF"
      }
    },
    {
      "cell_type": "markdown",
      "source": [
        "\n",
        "\n"
      ],
      "metadata": {
        "id": "DEAsmEMstSFp"
      }
    },
    {
      "cell_type": "markdown",
      "source": [
        "#### 2.3.4 Matrix-Vector Products\n",
        "\n",
        "We can use Numpy to (efficiently) solve large systems of equations of the form:\n",
        "\n",
        "$$Ax=b$$\n",
        "\n",
        "Let us illustrate that with:\n",
        "\n",
        "$$\n",
        "A = \\begin{bmatrix}\n",
        "5 & 6 & 2\\\\\n",
        "4 & 7 & 19\\\\\n",
        "0 & 3 & 12\n",
        "\\end{bmatrix}\n",
        "$$\n",
        "\n",
        "$$\n",
        "b = \\begin{bmatrix}\n",
        "-1\\\\\n",
        "2\\\\\n",
        "1 \n",
        "\\end{bmatrix}\n",
        "$$"
      ],
      "metadata": {
        "id": "x0bYchsivK0E"
      }
    },
    {
      "cell_type": "code",
      "source": [
        "A = np.matrix([[5, 6, 2],\n",
        "               [4, 7, 19],\n",
        "               [0, 3, 12]])\n",
        "b = np.matrix([[-1], [2], [1]])"
      ],
      "metadata": {
        "id": "RtviERYsvc7U"
      },
      "execution_count": null,
      "outputs": []
    },
    {
      "cell_type": "code",
      "source": [
        "x = np.linalg.solve(A, b)\n",
        "x"
      ],
      "metadata": {
        "id": "KqMy0slF0xOy"
      },
      "execution_count": null,
      "outputs": []
    },
    {
      "cell_type": "code",
      "source": [
        "B = np.array([0.5,\n",
        "              0.5,\n",
        "           0.5])\n",
        "print(f\"B vector: {B}\")\n",
        "\n",
        "C = A.dot(B)\n",
        "print(f\"C: {C}\")"
      ],
      "metadata": {
        "id": "X4Wj1UVJP0HP"
      },
      "execution_count": null,
      "outputs": []
    },
    {
      "cell_type": "markdown",
      "source": [
        "#### 2.3.4 Matrix Matrix product\n",
        "\n",
        "The $(i,j)$th entry of $C$ is equal to the inner product of the $i$th row of $A$, $A \\in \\R^{m \\times n}$ and $j$th column of $B$, $B \\in \\R^{n \\times p}$. $C \\in \\R^{m \\times p}$\n",
        "\n",
        "\n",
        "$C = AB = \\begin{bmatrix}- & a_1^T&-\\\\- & a_2^T&-\\\\-&\\vdots&-\\\\-&a_m^T&-\\end{bmatrix} \\begin{bmatrix}|&|&|&|&|\\\\b_1&b_2&b_3&\\dots&b_p\\\\|&|&|&|&|\\end{bmatrix} = \\begin{bmatrix}\n",
        "a_1^Tb_1 & a_1^Tb_2 & a_1^Tb_3 & \\dots & a_1^Tb_p\\\\\n",
        "a_2^Tb_1 & a_2^Tb_2 & a_2^Tb_3 & \\dots & a_2^Tb_p\\\\\n",
        "a_3^Tb_1 & a_3^Tb_2 & a_3^Tb_3 & \\dots & a_3^Tb_p\\\\\n",
        "\\vdots & \\vdots & \\vdots & \\ddots & \\vdots\\\\\n",
        "a_m^Tb_1 & a_m^Tb_2 & a_m^Tb_3 & \\dots & a_m^Tb_p\\\\\n",
        "\\end{bmatrix}$\n",
        "\n",
        "$C$ is the sum of the outer product of the $i$ column of $A$ and $i$th row of $B$ over all $i$\n",
        "\n",
        "$C = AB = \\begin{bmatrix}|&|&|&|&|\\\\a_1&a_2&a_3&\\dots&a_n\\\\|&|&|&|&|\\end{bmatrix} \\begin{bmatrix}- & b_1^T&-\\\\- & b_2^T&-\\\\-&\\vdots&-\\\\-&b_n^T&-\\end{bmatrix}  = \\displaystyle\\sum_{i=1}^n a_ib_i^T$\n",
        "\n",
        "$AB$ can be viewed as a set of matrix-vector products.\n",
        "\n",
        "$C=AB=A\\begin{bmatrix}|&|&|&|&|\\\\b_1&b_2&b_3&\\dots&b_p\\\\|&|&|&|&|\\end{bmatrix} = \\begin{bmatrix}|&|&|&|&|\\\\Ab_1&Ab_2&Ab_3&\\dots&Ab_p\\\\|&|&|&|&|\\end{bmatrix}$\n",
        "\n",
        "$C=AB=\\begin{bmatrix}- & a_1^T&-\\\\- & a_2^T&-\\\\-&\\vdots&-\\\\-&a_m^T&-\\end{bmatrix}B=\\begin{bmatrix}- & a_1^TB&-\\\\- & a_2^TB&-\\\\-&\\vdots&-\\\\-&a_m^TB&-\\end{bmatrix}$\n",
        "\n"
      ],
      "metadata": {
        "id": "qLb1txixwbUK"
      }
    },
    {
      "cell_type": "markdown",
      "source": [
        "#### 2.4 Inverse\n",
        "\n",
        "The inverse of a square matrix $A \\in \\R^{n \\times n}$ is denoted as $A^{-1}$\n",
        "\n",
        "$A^{-1}A = I = AA^{-1}$\n",
        "\n",
        "Non-square matrices do not have inverses;\n",
        "some of square matrices do not have inverses. We call them invertible or non-signular.\n",
        "\n",
        "A square matrix needs to be full rank to be invertible. \n",
        "\n",
        "$(A^{-1})^{-1} = A$\n",
        "\n",
        "$(AB)^{-1} = B^{-1}A^{-1}$\n",
        "\n",
        "$(A^{-1})=(A^T)^{-1}$"
      ],
      "metadata": {
        "id": "13DzSsBmUSf4"
      }
    },
    {
      "cell_type": "code",
      "source": [
        "from numpy.linalg import inv\n",
        "\n",
        "A = array([[1.0, 2.0],\n",
        "           [3.0, 4.0]])\n",
        "print(f\"A: \\n{A}\\n\")\n",
        "\n",
        "B = inv(A)\n",
        "print(f\"B: \\n{B}\\n\")\n",
        "\n",
        "I = A.dot(B)\n",
        "print(f\"I: \\n{I}\")"
      ],
      "metadata": {
        "id": "dyh5yU9_UW7Y"
      },
      "execution_count": null,
      "outputs": []
    },
    {
      "cell_type": "markdown",
      "source": [
        "## 3. Special Matrices\n",
        "\n",
        "$\\textbf{Identity Matrix}$: $I \\in \\R^{n \\times n}$ is a square matrix with ones on the diagonal and zeros everywhere else.\n",
        "\n",
        "$I_{i,j} = \\left\\{\n",
        "\\begin{array}{cl}\n",
        "1 & i=j \\\\\n",
        "0 & i \\neq j\n",
        "\\end{array}\n",
        "\\right.$\n",
        "\n",
        "$AI=A=IA$\n",
        "\n",
        "$\\textbf{Diagonal matrix}$: $D = diag(d_1, d_2, \\dots, d_n)$\n",
        "\n",
        "$D_{i,j} = \\left\\{\n",
        "\\begin{array}{cl}\n",
        "d_i & i=j \\\\\n",
        "0 & i \\neq j\n",
        "\\end{array}\n",
        "\\right.$\n",
        "\n",
        "\n",
        "$\\textbf{Symmetric Matrix}$: $A \\in \\R^{n \\times n}$ is symmetric if $A = A^T$;\n",
        "\n",
        "$\\textbf{Orthogonal Matrix}$: for two vectors, $x, y \\in \\R^n$, if $x^Ty=0$, the two vectors are orthogonal. \n",
        "\n",
        "A vector is called normalized if $∥x∥_2=1$.\n",
        "\n",
        "An orthogonal matrix is a square (or non-square) matrix which all the columns are orthogonal to each other and normalized.\n",
        "\n",
        "$QQ^T=I$\n",
        "\n"
      ],
      "metadata": {
        "id": "Eia2pr7eD5oR"
      }
    },
    {
      "cell_type": "code",
      "source": [
        "### Triangular Matrix\n",
        "from numpy import array\n",
        "from numpy import tril\n",
        "from numpy import triu\n",
        "\n",
        "M = array([[1, 2, 3],\n",
        "          [1, 2, 3],\n",
        "          [1, 2, 3]])\n",
        "print(f\"M: \\n{M}\\n\")\n",
        "\n",
        "lower = tril(M)\n",
        "print(f\"lower: \\n{lower}\\n\")\n",
        "\n",
        "upper = triu(M)\n",
        "print(f\"upper: \\n{upper}\")"
      ],
      "metadata": {
        "id": "APsfL0d6zUM4"
      },
      "execution_count": null,
      "outputs": []
    },
    {
      "cell_type": "code",
      "source": [
        "### Diagonal Matrix\n",
        "from numpy import diag\n",
        "\n",
        "d = diag(M)\n",
        "print(f\"diag(M): {d}\\n\")\n",
        "\n",
        "D = diag(d)\n",
        "print(f\"Diagonal Matrix: \\n{D}\")"
      ],
      "metadata": {
        "id": "6_4Lc4p_QYNw"
      },
      "execution_count": null,
      "outputs": []
    },
    {
      "cell_type": "code",
      "source": [
        "### Identity Matrix\n",
        "from numpy import identity\n",
        "\n",
        "I = identity(3)\n",
        "print(f\"I: \\n{I}\")"
      ],
      "metadata": {
        "id": "Nyw2yfEnQfqc"
      },
      "execution_count": null,
      "outputs": []
    },
    {
      "cell_type": "code",
      "source": [
        "### Orthgonal matrix\n",
        "from numpy.linalg import inv\n",
        "\n",
        "Q = array([[1, 0],\n",
        "           [0, -1]])\n",
        "print(f\"Q: \\n{Q}\\n\")\n",
        "\n",
        "# inverse equivalence\n",
        "V = inv(Q)\n",
        "print(f\"Q.T: \\n{Q.T}\\n\")\n",
        "print(f\"V: \\n{V}\\n\")\n",
        "\n",
        "# identity equivalence\n",
        "I = Q.dot(Q.T)\n",
        "print(f\"I: \\n{I}\")"
      ],
      "metadata": {
        "colab": {
          "base_uri": "https://localhost:8080/"
        },
        "id": "zLGPiEhVQp24",
        "outputId": "1670879e-7884-4302-df9c-ff6845e54529"
      },
      "execution_count": 16,
      "outputs": [
        {
          "output_type": "stream",
          "name": "stdout",
          "text": [
            "Q: \n",
            "[[ 1  0]\n",
            " [ 0 -1]]\n",
            "\n",
            "Q.T: \n",
            "[[ 1  0]\n",
            " [ 0 -1]]\n",
            "\n",
            "V: \n",
            "[[ 1.  0.]\n",
            " [-0. -1.]]\n",
            "\n",
            "I: \n",
            "[[1 0]\n",
            " [0 1]]\n"
          ]
        }
      ]
    },
    {
      "cell_type": "markdown",
      "source": [
        "## 4. Properties of Matrix"
      ],
      "metadata": {
        "id": "glSgkLXQTw2j"
      }
    },
    {
      "cell_type": "markdown",
      "source": [
        "### 4.1 Trace\n",
        "\n",
        "The trace of a square matrix $A \\in \\R^{n \\times n}$ is denoted as $tr(A)$ or $trA$, which is the sum of the diagonal elements of the matrix:\n",
        "\n",
        "$trA=\\displaystyle\\sum_{i=1}^nA_{ii}$"
      ],
      "metadata": {
        "id": "arWTS0QKT1j6"
      }
    },
    {
      "cell_type": "code",
      "source": [
        "from numpy import trace\n",
        "\n",
        "A = np.array([[1, 2, 3],\n",
        "           [4, 5, 6],\n",
        "           [7, 8, 9]])\n",
        "print(f\"A: \\n{A}\\n\")\n",
        "\n",
        "B = trace(A)\n",
        "print(f\"B: {B}\")"
      ],
      "metadata": {
        "colab": {
          "base_uri": "https://localhost:8080/"
        },
        "id": "-nxnKtxUUh5A",
        "outputId": "31037687-0ad9-451c-b346-49b9942b38e8"
      },
      "execution_count": 3,
      "outputs": [
        {
          "output_type": "stream",
          "name": "stdout",
          "text": [
            "A: \n",
            "[[1 2 3]\n",
            " [4 5 6]\n",
            " [7 8 9]]\n",
            "\n",
            "B: 15\n"
          ]
        }
      ]
    },
    {
      "cell_type": "markdown",
      "source": [
        "### 4.2 Determinant\n",
        "\n",
        "for a square matrix,\n",
        "\n",
        "$for A \\in \\R^{2\\times2}, A=\\begin{bmatrix}\n",
        "a_{11} & a_{12}\\\\\n",
        "a_{21} & a_{22}\\\\\n",
        "\\end{bmatrix}, detA=a_{11}*a_{22} - a_{12}*a_{21}$"
      ],
      "metadata": {
        "id": "-XainRRMagip"
      }
    },
    {
      "cell_type": "code",
      "source": [
        "from numpy.linalg import det\n",
        "\n",
        "B = det(A)\n",
        "print(f\"determinant: {B}\")"
      ],
      "metadata": {
        "id": "mw9tKu__a_ic"
      },
      "execution_count": null,
      "outputs": []
    },
    {
      "cell_type": "markdown",
      "source": [
        "### 4.3 Rank\n",
        "\n",
        "$rank(A)$\n",
        "\n",
        "A set of vectors $\\{ \\vec{a_1}, \\vec{a_2}, \\vec{a_3}, \\dots, \\vec{a_n}\\}$\n",
        "\n",
        "is linearly independent if no vector of the set can be represented as a linear combination of the remaining vectors.\n",
        "\n",
        "The following vectors are not linear independent:\n",
        "\n",
        "$a_1 = \\begin{bmatrix} 1\\\\ 2\\\\ 3 \\end{bmatrix}$\n",
        "$a_2 = \\begin{bmatrix} 4\\\\ 1\\\\ 5 \\end{bmatrix}$\n",
        "$a_3 = \\begin{bmatrix} 2\\\\ -3\\\\ -1 \\end{bmatrix}$\n",
        "\n",
        "The rank of matrix: column rank and row rank\n",
        "\n",
        "column rank: the size of the largest subset of the columns of a matrix, which is a linear independent set.\n",
        "\n",
        "row rank: the size of the largest subset of the rows of a matrix, which is a linear independent set.\n",
        "\n",
        "Full rank: $rank(A)= min(m, n) , for A \\in \\R^{m \\times n}$\n"
      ],
      "metadata": {
        "id": "XzA2betnbAeI"
      }
    },
    {
      "cell_type": "code",
      "source": [
        "### Vector Rank\n",
        "from numpy.linalg import matrix_rank\n",
        "\n",
        "v1 = array([1, 2, 3])\n",
        "print(f\"v1: {v1}\\n\")\n",
        "\n",
        "v1r = matrix_rank(v1)\n",
        "print(f\"rank of v1: {v1r}\\n\")\n",
        "\n",
        "v2 = array([0, 0, 0, 0, 0])\n",
        "print(f\"v2: {v2}\\n\")\n",
        "\n",
        "v2r = matrix_rank(v2)\n",
        "print(f\"rank of v2: {v2r}\")"
      ],
      "metadata": {
        "id": "1jI5BsWEWDMv"
      },
      "execution_count": null,
      "outputs": []
    },
    {
      "cell_type": "code",
      "source": [
        "### Matrix Rank\n",
        "#### Rank 0\n",
        "# rank 0\n",
        "M0 = array([[0, 0],\n",
        "            [0, 0]])\n",
        "print(f\"M0: \\n{M0}\\n\")\n",
        "\n",
        "m0r = matrix_rank(M0)\n",
        "print(f\"rank of M0: {m0r}\\n\")"
      ],
      "metadata": {
        "id": "PnGgOxvBbLyt"
      },
      "execution_count": null,
      "outputs": []
    },
    {
      "cell_type": "code",
      "source": [
        "# rank 1\n",
        "M1 = array([[1, 2],\n",
        "            [1, 2]])\n",
        "print(f\"M1: {M1}\\n\")\n",
        "\n",
        "m1r = matrix_rank(M1)\n",
        "print(f\"rank of M1: {m1r}\\n\")"
      ],
      "metadata": {
        "id": "4zLYyx6FbYNT"
      },
      "execution_count": null,
      "outputs": []
    },
    {
      "cell_type": "code",
      "source": [
        "# rank 2\n",
        "M2 = array([[1, 2],\n",
        "            [3, 4]])\n",
        "print(f\"M2: \\n{M2}\\n\")\n",
        "\n",
        "m2r = matrix_rank(M2)\n",
        "print(f\"rank of M2: {m2r}\")"
      ],
      "metadata": {
        "id": "aRF4vYS_bc2Q"
      },
      "execution_count": null,
      "outputs": []
    },
    {
      "cell_type": "markdown",
      "source": [
        "#### 4.4 Norm\n",
        "\n",
        "$\\textbf{Vector Norm}$\n",
        "\n",
        "vector $x \\in \\R^n$\n",
        "\n",
        "$L_1$-norm: $∥x∥_1$$=\\displaystyle\\sum_{i=1}^n|a_i|$\n",
        "\n",
        "Euclidean norm: $∥x∥_e$$=\\sqrt{\\sum_{i=1}^nx_i^2}$\n",
        "\n",
        "max norm: $∥x∥_{∞}$$=\\displaystyle\\max_{i=1}^n|x_i|$\n",
        "\n",
        "$\\textbf{Matrix Norm}$\n",
        "\n",
        "Matrix $A \\in \\R^{m \\times n}$\n",
        "\n",
        "$L_1$-norm: $∥A∥_1$=$\\displaystyle\\max_{1\\le j \\le n}\\sum_{i=1}^n|a_{ij}|$\n",
        "\n",
        "Euclidean norm: $∥A∥_e$$=\\sqrt{\\sum_{i=1}^n\\sum_{j=1}^na_{ij}^2}$\n",
        "\n",
        "max norm: $∥A∥_{∞}$$=\\displaystyle\\max_{1\\le i \\le n}\\sum_{j=1}^n|a_{ij}|$\n"
      ],
      "metadata": {
        "id": "f8Apfpw2fEsU"
      }
    },
    {
      "cell_type": "code",
      "source": [
        "### Vector Norm\n",
        "#### L1 norm\n",
        "from numpy import array, inf\n",
        "from numpy.linalg import norm\n",
        "a = array([1, 2, 3])\n",
        "print(f\"a = {a}\\n\")\n",
        "\n",
        "l1 = norm(a, 1)\n",
        "print(f\"l1 = {l1}\")"
      ],
      "metadata": {
        "colab": {
          "base_uri": "https://localhost:8080/"
        },
        "id": "gx8ADv0QfIc7",
        "outputId": "13b1d348-ed6a-4ed7-e724-ee464007b6eb"
      },
      "execution_count": 2,
      "outputs": [
        {
          "output_type": "stream",
          "name": "stdout",
          "text": [
            "a = [1 2 3]\n",
            "\n",
            "l1 = 6.0\n"
          ]
        }
      ]
    },
    {
      "cell_type": "code",
      "source": [
        "### vector L2 norm (Elucida norm)\n",
        "l2 = norm(a)\n",
        "print(f\"l2 = {l2}\")"
      ],
      "metadata": {
        "colab": {
          "base_uri": "https://localhost:8080/"
        },
        "id": "anh1OVUTgG2c",
        "outputId": "512b7fa6-d137-4d16-8e90-5acd564c776b"
      },
      "execution_count": 3,
      "outputs": [
        {
          "output_type": "stream",
          "name": "stdout",
          "text": [
            "l2 = 3.7416573867739413\n"
          ]
        }
      ]
    },
    {
      "cell_type": "code",
      "source": [
        "### vector max norm\n",
        "\n",
        "max_norm = norm(a, inf)\n",
        "print(f\"max_norm = {max_norm}\")"
      ],
      "metadata": {
        "id": "QYVh10LkgRSo"
      },
      "execution_count": null,
      "outputs": []
    },
    {
      "cell_type": "markdown",
      "source": [
        "## 5. Matrix Decomposition"
      ],
      "metadata": {
        "id": "HRA6s6nJb9Nv"
      }
    },
    {
      "cell_type": "markdown",
      "source": [
        "### 5.1 LU Decomposition:\n",
        "The LU decomposition is for square matrices and decomposes a\n",
        "matrix into L and U components.\n",
        "\n",
        "  $A = LU$\n",
        "\n",
        "$\\begin{bmatrix}\n",
        "a_{11} & a_{12} & a_{13}\\\\\n",
        "a_{21} & a_{22} & a_{23}\\\\\n",
        "a_{31} & a_{32} & a_{33}\n",
        "\\end{bmatrix} = \\begin{bmatrix}\n",
        "1 & 0 & 0\\\\\n",
        "l_{21} & 1 & 0\\\\\n",
        "l_{31} & l_{32} & 1\n",
        "\\end{bmatrix}  \\begin{bmatrix}\n",
        "u_{11} & u_{12} & u_{13}\\\\\n",
        "0 & u_{22} & u_{23}\\\\\n",
        "0 & 0 & u_{33}\n",
        "\\end{bmatrix}$\n",
        "\n",
        "The LUP decomposition or the LU decomposition with partial pivoting.\n",
        "\n",
        "$A = LUP$"
      ],
      "metadata": {
        "id": "005OTJ1PcAwP"
      }
    },
    {
      "cell_type": "code",
      "source": [
        "from numpy import array\n",
        "from scipy.linalg import lu\n",
        "\n",
        "# define a square matrix\n",
        "A = array([[1, 2, 3],\n",
        "           [4, 5, 6],\n",
        "           [7, 8, 9]])\n",
        "print(f\"A: \\n{A}\\n\")\n",
        "\n",
        "# factorize\n",
        "P, L, U = lu(A)\n",
        "print(f\"P:\\n {P}\\n\")\n",
        "print(f\"L:\\n {L}\\n\")\n",
        "print(f\"U:\\n {U}\\n\")\n",
        "\n",
        "# reconstruct\n",
        "B = P.dot(L).dot(U)\n",
        "print(f\"B:\\n {B}\")"
      ],
      "metadata": {
        "colab": {
          "base_uri": "https://localhost:8080/"
        },
        "id": "ZS22eifXcING",
        "outputId": "da4305f2-2960-47bb-eb7c-6c3307fb33f6"
      },
      "execution_count": 15,
      "outputs": [
        {
          "output_type": "stream",
          "name": "stdout",
          "text": [
            "A: \n",
            "[[1 2 3]\n",
            " [4 5 6]\n",
            " [7 8 9]]\n",
            "\n",
            "P:\n",
            " [[0. 1. 0.]\n",
            " [0. 0. 1.]\n",
            " [1. 0. 0.]]\n",
            "\n",
            "L:\n",
            " [[1.         0.         0.        ]\n",
            " [0.14285714 1.         0.        ]\n",
            " [0.57142857 0.5        1.        ]]\n",
            "\n",
            "U:\n",
            " [[7.         8.         9.        ]\n",
            " [0.         0.85714286 1.71428571]\n",
            " [0.         0.         0.        ]]\n",
            "\n",
            "B:\n",
            " [[1. 2. 3.]\n",
            " [4. 5. 6.]\n",
            " [7. 8. 9.]]\n"
          ]
        }
      ]
    },
    {
      "cell_type": "markdown",
      "source": [
        "### 5.2 QR Decomposition:\n",
        "The QR decomposition is for n × m matrices (not limited to\n",
        "square matrices) and decomposes a matrix into Q and R components.\n",
        "\n",
        "$A = QR$\n",
        "\n",
        "$Q$ is an orthogonal matrix ($QQ^T=I$)\n",
        "\n",
        "$R$ is an upper triangular matrix"
      ],
      "metadata": {
        "id": "5J0aLwjacbx5"
      }
    },
    {
      "cell_type": "code",
      "source": [
        "from numpy.linalg import qr\n",
        "\n",
        "# define rectangular matrix\n",
        "A = array([[1, 2],\n",
        "           [3, 4],\n",
        "           [5, 6]])\n",
        "print(f\"A: \\n{A}\\n\")\n",
        "\n",
        "Q, R = qr(A, \"complete\")\n",
        "print(f\"Q: \\n{Q}\\n\")\n",
        "print(f\"R: \\n{R}\\n\")\n",
        "\n",
        "# reconstruct\n",
        "B = Q.dot(R)\n",
        "print(f\"B: \\n{B}\")"
      ],
      "metadata": {
        "colab": {
          "base_uri": "https://localhost:8080/"
        },
        "id": "uJh1rou2cn7c",
        "outputId": "a5d1e8f4-b43d-46cb-f1e0-0f43979d3324"
      },
      "execution_count": 18,
      "outputs": [
        {
          "output_type": "stream",
          "name": "stdout",
          "text": [
            "A: \n",
            "[[1 2]\n",
            " [3 4]\n",
            " [5 6]]\n",
            "\n",
            "Q: \n",
            "[[-0.16903085  0.89708523  0.40824829]\n",
            " [-0.50709255  0.27602622 -0.81649658]\n",
            " [-0.84515425 -0.34503278  0.40824829]]\n",
            "\n",
            "R: \n",
            "[[-5.91607978 -7.43735744]\n",
            " [ 0.          0.82807867]\n",
            " [ 0.          0.        ]]\n",
            "\n",
            "B: \n",
            "[[1. 2.]\n",
            " [3. 4.]\n",
            " [5. 6.]]\n"
          ]
        }
      ]
    },
    {
      "cell_type": "markdown",
      "source": [
        "### 5.3 Cholosky Decomposition:\n",
        "The Cholesky decomposition is for square symmetric matrices where\n",
        "all values are greater than zero, so-called positive definite matrices.\n",
        "\n",
        "$A = L L^T$\n",
        "\n",
        "$$\\begin{bmatrix}\n",
        "a_{11} & a_{12} & a_{13}\\\\\n",
        "a_{21} & a_{22} & a_{23}\\\\\n",
        "a_{31} & a_{32} & a_{33}\n",
        "\\end{bmatrix} = \\begin{bmatrix}\n",
        "l_{11} & 0 & 0\\\\\n",
        "l_{21} & l_{22} & 0\\\\\n",
        "l_{31} & l_{32} & l_{33}\n",
        "\\end{bmatrix}  \\begin{bmatrix}\n",
        "l_{11} & l_{21} & l_{31}\\\\\n",
        "0 & l_{22} & l_{32}\\\\\n",
        "0 & 0 & l_{33}\n",
        "\\end{bmatrix}$$"
      ],
      "metadata": {
        "id": "PWRf5jvYct4f"
      }
    },
    {
      "cell_type": "code",
      "source": [
        "from numpy.linalg import cholesky\n",
        "\n",
        "# define a symmetrical matrix\n",
        "A = array([[2, 1, 1],\n",
        "           [1, 2, 1],\n",
        "           [1, 1, 2]])\n",
        "print(f\"A: \\n{A}\\n\")\n",
        "\n",
        "# factorize\n",
        "L = cholesky(A)\n",
        "print(f\"L: \\n{L}\\n\")\n",
        "\n",
        "# reconstruct\n",
        "B = L.dot(L.T)\n",
        "print(f\"B: \\n{B}\")"
      ],
      "metadata": {
        "colab": {
          "base_uri": "https://localhost:8080/"
        },
        "id": "3wiynpEpcwr3",
        "outputId": "2177cd14-e36c-49e5-fc3d-4db00beaa5da"
      },
      "execution_count": 17,
      "outputs": [
        {
          "output_type": "stream",
          "name": "stdout",
          "text": [
            "A: \n",
            "[[2 1 1]\n",
            " [1 2 1]\n",
            " [1 1 2]]\n",
            "\n",
            "L: \n",
            "[[1.41421356 0.         0.        ]\n",
            " [0.70710678 1.22474487 0.        ]\n",
            " [0.70710678 0.40824829 1.15470054]]\n",
            "\n",
            "B: \n",
            "[[2. 1. 1.]\n",
            " [1. 2. 1.]\n",
            " [1. 1. 2.]]\n"
          ]
        }
      ]
    },
    {
      "cell_type": "markdown",
      "source": [
        "### 5.4 Eigen Decomposition\n",
        "\n",
        "Eigenvalues and Eigenvectors\n",
        "\n",
        "Given a square matrix $A \\in \\R^{n \\times n}$, we have,\n",
        "\n",
        "$Ax=λx, x \\neq 0$\n",
        "\n",
        "$x$ is a vector, $\\in C^n$; $\\lambda \\in ̧$;\n",
        "\n",
        "$x$ is called eigenvector; $λ$ is called eigenvalue."
      ],
      "metadata": {
        "id": "3R177L1FdCOZ"
      }
    },
    {
      "cell_type": "code",
      "source": [
        "from numpy import array\n",
        "from numpy.linalg import eig\n",
        "\n",
        "# define a square matrix\n",
        "A = array([[1, 2, 3],\n",
        "           [4, 5, 6],\n",
        "           [7, 8, 9]])\n",
        "print(f\"A: \\n{A}\\n\")\n",
        "\n",
        "#factorize\n",
        "values, vectors = eig(A)\n",
        "print(f\"values: {values}\\n\")\n",
        "print(f\"vectors: \\n{vectors}\")"
      ],
      "metadata": {
        "colab": {
          "base_uri": "https://localhost:8080/"
        },
        "id": "S283w30NdQO9",
        "outputId": "a284a07b-4462-4ed1-b409-e849ad5fdab6"
      },
      "execution_count": 12,
      "outputs": [
        {
          "output_type": "stream",
          "name": "stdout",
          "text": [
            "A: \n",
            "[[1 2 3]\n",
            " [4 5 6]\n",
            " [7 8 9]]\n",
            "\n",
            "values: [ 1.61168440e+01 -1.11684397e+00 -1.30367773e-15]\n",
            "\n",
            "vectors: \n",
            "[[-0.23197069 -0.78583024  0.40824829]\n",
            " [-0.52532209 -0.08675134 -0.81649658]\n",
            " [-0.8186735   0.61232756  0.40824829]]\n"
          ]
        }
      ]
    },
    {
      "cell_type": "markdown",
      "source": [
        "###### Result Description:\n",
        "The eigenvectors are returned as a matrix with the same dimensions as the \n",
        "parent matrix, where each column is an eigenvector, e.g. the first \n",
        "eigenvector is vectors[:, 0]. Eigenvalues are returned as a list, where\n",
        "value indices in the returned array are paired with eigenvectors by \n",
        "column index, e.g. the first eigenvalue at values[0] is paired with the \n",
        "first eigenvector at vectors[:, 0]."
      ],
      "metadata": {
        "id": "hAxABuZAdRRd"
      }
    },
    {
      "cell_type": "code",
      "source": [
        ""
      ],
      "metadata": {
        "id": "e5bvItfq0F-n"
      },
      "execution_count": null,
      "outputs": []
    },
    {
      "cell_type": "code",
      "source": [
        "from numpy import array\n",
        "from numpy.linalg import eig\n",
        "\n",
        "A = array([[1, 2, 3],\n",
        "           [4, 5, 6],\n",
        "           [7, 8, 9]])\n",
        "print(f\"A: \\n{A}\\n\")\n",
        "\n",
        "# factorize\n",
        "values, vectors = eig(A)\n",
        "\n",
        "# confirm first eigenvector\n",
        "B = A.dot(vectors[:, 0])\n",
        "print(f\"B: {B}\\n\")\n",
        "\n",
        "C = vectors[:, 0] * values[0]\n",
        "print(f\"C: {C}\")"
      ],
      "metadata": {
        "colab": {
          "base_uri": "https://localhost:8080/"
        },
        "id": "GOETsMHidV-k",
        "outputId": "264c0c42-43a8-4ae6-b644-0a274cf35209"
      },
      "execution_count": 13,
      "outputs": [
        {
          "output_type": "stream",
          "name": "stdout",
          "text": [
            "A: \n",
            "[[1 2 3]\n",
            " [4 5 6]\n",
            " [7 8 9]]\n",
            "\n",
            "B: [ -3.73863537  -8.46653421 -13.19443305]\n",
            "\n",
            "C: [ -3.73863537  -8.46653421 -13.19443305]\n"
          ]
        }
      ]
    },
    {
      "cell_type": "markdown",
      "source": [
        "Reconstruct Matrix:"
      ],
      "metadata": {
        "id": "n5Tz_Zordcqh"
      }
    },
    {
      "cell_type": "code",
      "source": [
        "# reconstruct matrix\n",
        "from numpy import diag, array\n",
        "from numpy.linalg import inv, eig\n",
        "\n",
        "# define matrix\n",
        "A = array([[1, 2, 3],\n",
        "           [4, 5, 6],\n",
        "           [7, 8, 9]])\n",
        "print(f\"A: \\n{A}\\n\")\n",
        "\n",
        "# factorize\n",
        "values, vectors = eig(A)\n",
        "\n",
        "# create matrix from eigenvectors\n",
        "Q = vectors\n",
        "\n",
        "# create inverse of eigenvectors matrix\n",
        "R = inv(Q)\n",
        "\n",
        "# create diagonal matrix from eigenvalues\n",
        "L = diag(values)\n",
        "\n",
        "# reconstruct the original matrix\n",
        "B = Q.dot(L).dot(R)\n",
        "print(f\"B: \\n{B}\")"
      ],
      "metadata": {
        "id": "qN166daidehN"
      },
      "execution_count": null,
      "outputs": []
    },
    {
      "cell_type": "markdown",
      "source": [
        "### 5.5 Singular Value Decomposition\n"
      ],
      "metadata": {
        "id": "w1SqsDg5d7BL"
      }
    },
    {
      "cell_type": "code",
      "source": [
        "from numpy import array\n",
        "from scipy.linalg import svd\n",
        "\n",
        "# defining a matrix\n",
        "A = array([\n",
        "    [1, 2],\n",
        "    [3, 4],\n",
        "    [5, 6]\n",
        "])\n",
        "\n",
        "print(f\"A: \\n{A}\\n\")\n",
        "\n",
        "# factorizing\n",
        "U, s, V = svd(A)\n",
        "print(f\"U: \\n{U}\\n\")\n",
        "print(f\"s: {s}\\n\")\n",
        "print(f\"V: \\n{V}\\n\")"
      ],
      "metadata": {
        "id": "ZXoKvY6ad6BX"
      },
      "execution_count": null,
      "outputs": []
    },
    {
      "cell_type": "code",
      "source": [
        "# reconstructing rectangular matrix fro svd\n",
        "\n",
        "from numpy import array\n",
        "from numpy import diag\n",
        "from numpy import zeros\n",
        "from scipy.linalg import svd\n",
        "\n",
        "# defining a matrix\n",
        "A = array([\n",
        "    [1, 2],\n",
        "    [3, 4],\n",
        "    [5, 6]\n",
        "])\n",
        "print(f\"A: \\n{A}\\n\")\n",
        "\n",
        "# factorizing\n",
        "U, s, V = svd(A)\n",
        "\n",
        "# creating m*n Sigma matrix\n",
        "Sigma = zeros((A.shape[0], A.shape[1]))\n",
        "\n",
        "# populate Sigma with n*n diagonal matrix\n",
        "Sigma[:A.shape[1], :A.shape[1]] = diag(s)\n",
        "\n",
        "# reconstructing matrix\n",
        "B = U.dot(Sigma.dot(V))\n",
        "print(f\"B: \\n{B}\")"
      ],
      "metadata": {
        "id": "IrYvlp8feLEp"
      },
      "execution_count": null,
      "outputs": []
    },
    {
      "cell_type": "markdown",
      "source": [
        "##### For the square matrix:"
      ],
      "metadata": {
        "id": "yhHtAoo9eO0n"
      }
    },
    {
      "cell_type": "code",
      "source": [
        "from numpy import array\n",
        "from numpy import diag\n",
        "from scipy.linalg import svd\n",
        "\n",
        "##### defining a matrix\n",
        "A = array([\n",
        "    [1, 2, 3],\n",
        "    [4, 5, 6],\n",
        "    [7, 8, 9]\n",
        "])\n",
        "print(f\"A: \\n{A}\\n\")\n",
        "\n",
        "##### factorizing\n",
        "U, s, V = svd(A)\n",
        "\n",
        "##### creating n*n Sigma matrix\n",
        "Sigma = diag(s)\n",
        "\n",
        "##### reconstructing matrix\n",
        "B = U.dot(Sigma.dot(V))\n",
        "print(f\"B: \\n{B}\")"
      ],
      "metadata": {
        "colab": {
          "base_uri": "https://localhost:8080/"
        },
        "id": "BgLUog75pBPY",
        "outputId": "929443b9-e215-4c81-a6dc-21b131098c39"
      },
      "execution_count": 1,
      "outputs": [
        {
          "output_type": "stream",
          "name": "stdout",
          "text": [
            "A: \n",
            "[[1 2 3]\n",
            " [4 5 6]\n",
            " [7 8 9]]\n",
            "\n",
            "B: \n",
            "[[1. 2. 3.]\n",
            " [4. 5. 6.]\n",
            " [7. 8. 9.]]\n"
          ]
        }
      ]
    }
  ]
}